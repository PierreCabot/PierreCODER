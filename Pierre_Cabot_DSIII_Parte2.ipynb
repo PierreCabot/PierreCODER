{
  "nbformat": 4,
  "nbformat_minor": 0,
  "metadata": {
    "colab": {
      "provenance": [],
      "toc_visible": true
    },
    "kernelspec": {
      "name": "python3",
      "display_name": "Python 3"
    },
    "language_info": {
      "name": "python"
    }
  },
  "cells": [
    {
      "cell_type": "markdown",
      "source": [
        "#Trabajo final Data Science III\n",
        "#Pierre Cabot\n",
        "#Parte 2"
      ],
      "metadata": {
        "id": "I2cD0sI3M4kW"
      }
    },
    {
      "cell_type": "markdown",
      "source": [
        "Para esta instancia se siguió trabajando con el mismo dataset \"Netflix reviews\" pero con un enfoque de análisis mediante deep learning."
      ],
      "metadata": {
        "id": "Qm9Lpe44YyRZ"
      }
    },
    {
      "cell_type": "markdown",
      "source": [
        "# 1) Dependencias"
      ],
      "metadata": {
        "id": "N5jAAQmLM-oE"
      }
    },
    {
      "cell_type": "code",
      "source": [
        "%%time\n",
        "import gzip\n",
        "import json\n",
        "import string\n",
        "\n",
        "from collections import Counter\n",
        "import requests\n",
        "import zipfile\n",
        "import io\n",
        "\n",
        "import pandas as pd\n",
        "import numpy  as np\n",
        "import seaborn as sns\n",
        "import re\n",
        "import string\n",
        "import plotly\n",
        "import matplotlib.pyplot as plt\n",
        "\n",
        "from tensorflow.keras.models import Sequential\n",
        "from tensorflow.keras.layers import Embedding, LSTM, Dense, Dropout, Bidirectional\n",
        "from tensorflow.keras.preprocessing.text import Tokenizer\n",
        "from tensorflow.keras.preprocessing.sequence import pad_sequences\n",
        "import tensorflow as tf"
      ],
      "metadata": {
        "colab": {
          "base_uri": "https://localhost:8080/"
        },
        "id": "MKkTk3aTtlp_",
        "outputId": "f9b77e79-df51-4dd4-a873-0fdfa01981dd"
      },
      "execution_count": 33,
      "outputs": [
        {
          "output_type": "stream",
          "name": "stdout",
          "text": [
            "CPU times: user 59 µs, sys: 4 µs, total: 63 µs\n",
            "Wall time: 67.2 µs\n"
          ]
        }
      ]
    },
    {
      "cell_type": "markdown",
      "source": [
        "# 2) Análisis"
      ],
      "metadata": {
        "id": "aUqbdVnKNMxX"
      }
    },
    {
      "cell_type": "code",
      "source": [
        "# URL del archivo ZIP en GitHub\n",
        "url ='https://github.com/PierreCabot/PierreCODER/raw/main/netflix_reviews.csv.zip'\n",
        "\n",
        "# Descargo el archivo ZIP\n",
        "response = requests.get(url)\n",
        "if response.status_code == 200:\n",
        "    zip_file = zipfile.ZipFile(io.BytesIO(response.content))\n",
        "\n",
        "    print(\"Archivos en el ZIP:\", zip_file.namelist())\n",
        "\n",
        "    csv_file_name = zip_file.namelist()[0]\n",
        "    with zip_file.open(csv_file_name) as csvfile:\n",
        "        df = pd.read_csv(csvfile)\n",
        "\n",
        "    print(df.head())\n",
        "else:\n",
        "    print(\"Error al descargar el archivo:\", response.status_code)"
      ],
      "metadata": {
        "colab": {
          "base_uri": "https://localhost:8080/"
        },
        "id": "E6qgUYUitgGm",
        "outputId": "f8b80aa7-c324-4afd-e982-8c92a760a87a"
      },
      "execution_count": 34,
      "outputs": [
        {
          "output_type": "stream",
          "name": "stdout",
          "text": [
            "Archivos en el ZIP: ['netflix_reviews.csv']\n",
            "                               reviewId       userName  \\\n",
            "0  94c3dd9a-0ecb-4276-b62d-3d9de692ccac      Kmr Rahul   \n",
            "1  a2de4715-77be-4d6a-89d2-66364c7a3576              K   \n",
            "2  2dc3dabe-ec6e-4a58-a23a-57fe0e2cb386     Lisa Salva   \n",
            "3  8f4c427f-bc4f-45e2-b248-648467742875          Keith   \n",
            "4  e081d547-a023-42cb-a341-480a69ffde7e  sumitra thapa   \n",
            "\n",
            "                                             content  score  thumbsUpCount  \\\n",
            "0                                              Supar      5              0   \n",
            "1                                I hate the new ads.      1              0   \n",
            "2  I'm noticing that I'm getting all the apps tha...      1              0   \n",
            "3  Was password sharing really the problem? Y'all...      1              0   \n",
            "4       It is didn't sign up never use it Netflix 🤦😾      1              0   \n",
            "\n",
            "     reviewCreatedVersion                   at              appVersion  \n",
            "0   8.135.1 build 7 50902  2024-10-09 14:45:35   8.135.1 build 7 50902  \n",
            "1  8.134.1 build 10 50872  2024-10-09 14:44:59  8.134.1 build 10 50872  \n",
            "2   8.96.1 build 16 50568  2024-10-09 14:36:33   8.96.1 build 16 50568  \n",
            "3                     NaN  2024-10-09 14:34:45                     NaN  \n",
            "4   8.135.1 build 7 50902  2024-10-09 14:31:32   8.135.1 build 7 50902  \n"
          ]
        }
      ]
    },
    {
      "cell_type": "code",
      "source": [
        "df.head(5)"
      ],
      "metadata": {
        "colab": {
          "base_uri": "https://localhost:8080/",
          "height": 206
        },
        "id": "y3Faq2ivub12",
        "outputId": "a9f61567-3179-430b-eeb2-89f5ac496750"
      },
      "execution_count": 35,
      "outputs": [
        {
          "output_type": "execute_result",
          "data": {
            "text/plain": [
              "                               reviewId       userName  \\\n",
              "0  94c3dd9a-0ecb-4276-b62d-3d9de692ccac      Kmr Rahul   \n",
              "1  a2de4715-77be-4d6a-89d2-66364c7a3576              K   \n",
              "2  2dc3dabe-ec6e-4a58-a23a-57fe0e2cb386     Lisa Salva   \n",
              "3  8f4c427f-bc4f-45e2-b248-648467742875          Keith   \n",
              "4  e081d547-a023-42cb-a341-480a69ffde7e  sumitra thapa   \n",
              "\n",
              "                                             content  score  thumbsUpCount  \\\n",
              "0                                              Supar      5              0   \n",
              "1                                I hate the new ads.      1              0   \n",
              "2  I'm noticing that I'm getting all the apps tha...      1              0   \n",
              "3  Was password sharing really the problem? Y'all...      1              0   \n",
              "4       It is didn't sign up never use it Netflix 🤦😾      1              0   \n",
              "\n",
              "     reviewCreatedVersion                   at              appVersion  \n",
              "0   8.135.1 build 7 50902  2024-10-09 14:45:35   8.135.1 build 7 50902  \n",
              "1  8.134.1 build 10 50872  2024-10-09 14:44:59  8.134.1 build 10 50872  \n",
              "2   8.96.1 build 16 50568  2024-10-09 14:36:33   8.96.1 build 16 50568  \n",
              "3                     NaN  2024-10-09 14:34:45                     NaN  \n",
              "4   8.135.1 build 7 50902  2024-10-09 14:31:32   8.135.1 build 7 50902  "
            ],
            "text/html": [
              "\n",
              "  <div id=\"df-7f3a4d28-f258-4677-8840-21e777b29c51\" class=\"colab-df-container\">\n",
              "    <div>\n",
              "<style scoped>\n",
              "    .dataframe tbody tr th:only-of-type {\n",
              "        vertical-align: middle;\n",
              "    }\n",
              "\n",
              "    .dataframe tbody tr th {\n",
              "        vertical-align: top;\n",
              "    }\n",
              "\n",
              "    .dataframe thead th {\n",
              "        text-align: right;\n",
              "    }\n",
              "</style>\n",
              "<table border=\"1\" class=\"dataframe\">\n",
              "  <thead>\n",
              "    <tr style=\"text-align: right;\">\n",
              "      <th></th>\n",
              "      <th>reviewId</th>\n",
              "      <th>userName</th>\n",
              "      <th>content</th>\n",
              "      <th>score</th>\n",
              "      <th>thumbsUpCount</th>\n",
              "      <th>reviewCreatedVersion</th>\n",
              "      <th>at</th>\n",
              "      <th>appVersion</th>\n",
              "    </tr>\n",
              "  </thead>\n",
              "  <tbody>\n",
              "    <tr>\n",
              "      <th>0</th>\n",
              "      <td>94c3dd9a-0ecb-4276-b62d-3d9de692ccac</td>\n",
              "      <td>Kmr Rahul</td>\n",
              "      <td>Supar</td>\n",
              "      <td>5</td>\n",
              "      <td>0</td>\n",
              "      <td>8.135.1 build 7 50902</td>\n",
              "      <td>2024-10-09 14:45:35</td>\n",
              "      <td>8.135.1 build 7 50902</td>\n",
              "    </tr>\n",
              "    <tr>\n",
              "      <th>1</th>\n",
              "      <td>a2de4715-77be-4d6a-89d2-66364c7a3576</td>\n",
              "      <td>K</td>\n",
              "      <td>I hate the new ads.</td>\n",
              "      <td>1</td>\n",
              "      <td>0</td>\n",
              "      <td>8.134.1 build 10 50872</td>\n",
              "      <td>2024-10-09 14:44:59</td>\n",
              "      <td>8.134.1 build 10 50872</td>\n",
              "    </tr>\n",
              "    <tr>\n",
              "      <th>2</th>\n",
              "      <td>2dc3dabe-ec6e-4a58-a23a-57fe0e2cb386</td>\n",
              "      <td>Lisa Salva</td>\n",
              "      <td>I'm noticing that I'm getting all the apps tha...</td>\n",
              "      <td>1</td>\n",
              "      <td>0</td>\n",
              "      <td>8.96.1 build 16 50568</td>\n",
              "      <td>2024-10-09 14:36:33</td>\n",
              "      <td>8.96.1 build 16 50568</td>\n",
              "    </tr>\n",
              "    <tr>\n",
              "      <th>3</th>\n",
              "      <td>8f4c427f-bc4f-45e2-b248-648467742875</td>\n",
              "      <td>Keith</td>\n",
              "      <td>Was password sharing really the problem? Y'all...</td>\n",
              "      <td>1</td>\n",
              "      <td>0</td>\n",
              "      <td>NaN</td>\n",
              "      <td>2024-10-09 14:34:45</td>\n",
              "      <td>NaN</td>\n",
              "    </tr>\n",
              "    <tr>\n",
              "      <th>4</th>\n",
              "      <td>e081d547-a023-42cb-a341-480a69ffde7e</td>\n",
              "      <td>sumitra thapa</td>\n",
              "      <td>It is didn't sign up never use it Netflix 🤦😾</td>\n",
              "      <td>1</td>\n",
              "      <td>0</td>\n",
              "      <td>8.135.1 build 7 50902</td>\n",
              "      <td>2024-10-09 14:31:32</td>\n",
              "      <td>8.135.1 build 7 50902</td>\n",
              "    </tr>\n",
              "  </tbody>\n",
              "</table>\n",
              "</div>\n",
              "    <div class=\"colab-df-buttons\">\n",
              "\n",
              "  <div class=\"colab-df-container\">\n",
              "    <button class=\"colab-df-convert\" onclick=\"convertToInteractive('df-7f3a4d28-f258-4677-8840-21e777b29c51')\"\n",
              "            title=\"Convert this dataframe to an interactive table.\"\n",
              "            style=\"display:none;\">\n",
              "\n",
              "  <svg xmlns=\"http://www.w3.org/2000/svg\" height=\"24px\" viewBox=\"0 -960 960 960\">\n",
              "    <path d=\"M120-120v-720h720v720H120Zm60-500h600v-160H180v160Zm220 220h160v-160H400v160Zm0 220h160v-160H400v160ZM180-400h160v-160H180v160Zm440 0h160v-160H620v160ZM180-180h160v-160H180v160Zm440 0h160v-160H620v160Z\"/>\n",
              "  </svg>\n",
              "    </button>\n",
              "\n",
              "  <style>\n",
              "    .colab-df-container {\n",
              "      display:flex;\n",
              "      gap: 12px;\n",
              "    }\n",
              "\n",
              "    .colab-df-convert {\n",
              "      background-color: #E8F0FE;\n",
              "      border: none;\n",
              "      border-radius: 50%;\n",
              "      cursor: pointer;\n",
              "      display: none;\n",
              "      fill: #1967D2;\n",
              "      height: 32px;\n",
              "      padding: 0 0 0 0;\n",
              "      width: 32px;\n",
              "    }\n",
              "\n",
              "    .colab-df-convert:hover {\n",
              "      background-color: #E2EBFA;\n",
              "      box-shadow: 0px 1px 2px rgba(60, 64, 67, 0.3), 0px 1px 3px 1px rgba(60, 64, 67, 0.15);\n",
              "      fill: #174EA6;\n",
              "    }\n",
              "\n",
              "    .colab-df-buttons div {\n",
              "      margin-bottom: 4px;\n",
              "    }\n",
              "\n",
              "    [theme=dark] .colab-df-convert {\n",
              "      background-color: #3B4455;\n",
              "      fill: #D2E3FC;\n",
              "    }\n",
              "\n",
              "    [theme=dark] .colab-df-convert:hover {\n",
              "      background-color: #434B5C;\n",
              "      box-shadow: 0px 1px 3px 1px rgba(0, 0, 0, 0.15);\n",
              "      filter: drop-shadow(0px 1px 2px rgba(0, 0, 0, 0.3));\n",
              "      fill: #FFFFFF;\n",
              "    }\n",
              "  </style>\n",
              "\n",
              "    <script>\n",
              "      const buttonEl =\n",
              "        document.querySelector('#df-7f3a4d28-f258-4677-8840-21e777b29c51 button.colab-df-convert');\n",
              "      buttonEl.style.display =\n",
              "        google.colab.kernel.accessAllowed ? 'block' : 'none';\n",
              "\n",
              "      async function convertToInteractive(key) {\n",
              "        const element = document.querySelector('#df-7f3a4d28-f258-4677-8840-21e777b29c51');\n",
              "        const dataTable =\n",
              "          await google.colab.kernel.invokeFunction('convertToInteractive',\n",
              "                                                    [key], {});\n",
              "        if (!dataTable) return;\n",
              "\n",
              "        const docLinkHtml = 'Like what you see? Visit the ' +\n",
              "          '<a target=\"_blank\" href=https://colab.research.google.com/notebooks/data_table.ipynb>data table notebook</a>'\n",
              "          + ' to learn more about interactive tables.';\n",
              "        element.innerHTML = '';\n",
              "        dataTable['output_type'] = 'display_data';\n",
              "        await google.colab.output.renderOutput(dataTable, element);\n",
              "        const docLink = document.createElement('div');\n",
              "        docLink.innerHTML = docLinkHtml;\n",
              "        element.appendChild(docLink);\n",
              "      }\n",
              "    </script>\n",
              "  </div>\n",
              "\n",
              "\n",
              "<div id=\"df-13b408fd-01ab-44e9-a40d-f00dd875d6a0\">\n",
              "  <button class=\"colab-df-quickchart\" onclick=\"quickchart('df-13b408fd-01ab-44e9-a40d-f00dd875d6a0')\"\n",
              "            title=\"Suggest charts\"\n",
              "            style=\"display:none;\">\n",
              "\n",
              "<svg xmlns=\"http://www.w3.org/2000/svg\" height=\"24px\"viewBox=\"0 0 24 24\"\n",
              "     width=\"24px\">\n",
              "    <g>\n",
              "        <path d=\"M19 3H5c-1.1 0-2 .9-2 2v14c0 1.1.9 2 2 2h14c1.1 0 2-.9 2-2V5c0-1.1-.9-2-2-2zM9 17H7v-7h2v7zm4 0h-2V7h2v10zm4 0h-2v-4h2v4z\"/>\n",
              "    </g>\n",
              "</svg>\n",
              "  </button>\n",
              "\n",
              "<style>\n",
              "  .colab-df-quickchart {\n",
              "      --bg-color: #E8F0FE;\n",
              "      --fill-color: #1967D2;\n",
              "      --hover-bg-color: #E2EBFA;\n",
              "      --hover-fill-color: #174EA6;\n",
              "      --disabled-fill-color: #AAA;\n",
              "      --disabled-bg-color: #DDD;\n",
              "  }\n",
              "\n",
              "  [theme=dark] .colab-df-quickchart {\n",
              "      --bg-color: #3B4455;\n",
              "      --fill-color: #D2E3FC;\n",
              "      --hover-bg-color: #434B5C;\n",
              "      --hover-fill-color: #FFFFFF;\n",
              "      --disabled-bg-color: #3B4455;\n",
              "      --disabled-fill-color: #666;\n",
              "  }\n",
              "\n",
              "  .colab-df-quickchart {\n",
              "    background-color: var(--bg-color);\n",
              "    border: none;\n",
              "    border-radius: 50%;\n",
              "    cursor: pointer;\n",
              "    display: none;\n",
              "    fill: var(--fill-color);\n",
              "    height: 32px;\n",
              "    padding: 0;\n",
              "    width: 32px;\n",
              "  }\n",
              "\n",
              "  .colab-df-quickchart:hover {\n",
              "    background-color: var(--hover-bg-color);\n",
              "    box-shadow: 0 1px 2px rgba(60, 64, 67, 0.3), 0 1px 3px 1px rgba(60, 64, 67, 0.15);\n",
              "    fill: var(--button-hover-fill-color);\n",
              "  }\n",
              "\n",
              "  .colab-df-quickchart-complete:disabled,\n",
              "  .colab-df-quickchart-complete:disabled:hover {\n",
              "    background-color: var(--disabled-bg-color);\n",
              "    fill: var(--disabled-fill-color);\n",
              "    box-shadow: none;\n",
              "  }\n",
              "\n",
              "  .colab-df-spinner {\n",
              "    border: 2px solid var(--fill-color);\n",
              "    border-color: transparent;\n",
              "    border-bottom-color: var(--fill-color);\n",
              "    animation:\n",
              "      spin 1s steps(1) infinite;\n",
              "  }\n",
              "\n",
              "  @keyframes spin {\n",
              "    0% {\n",
              "      border-color: transparent;\n",
              "      border-bottom-color: var(--fill-color);\n",
              "      border-left-color: var(--fill-color);\n",
              "    }\n",
              "    20% {\n",
              "      border-color: transparent;\n",
              "      border-left-color: var(--fill-color);\n",
              "      border-top-color: var(--fill-color);\n",
              "    }\n",
              "    30% {\n",
              "      border-color: transparent;\n",
              "      border-left-color: var(--fill-color);\n",
              "      border-top-color: var(--fill-color);\n",
              "      border-right-color: var(--fill-color);\n",
              "    }\n",
              "    40% {\n",
              "      border-color: transparent;\n",
              "      border-right-color: var(--fill-color);\n",
              "      border-top-color: var(--fill-color);\n",
              "    }\n",
              "    60% {\n",
              "      border-color: transparent;\n",
              "      border-right-color: var(--fill-color);\n",
              "    }\n",
              "    80% {\n",
              "      border-color: transparent;\n",
              "      border-right-color: var(--fill-color);\n",
              "      border-bottom-color: var(--fill-color);\n",
              "    }\n",
              "    90% {\n",
              "      border-color: transparent;\n",
              "      border-bottom-color: var(--fill-color);\n",
              "    }\n",
              "  }\n",
              "</style>\n",
              "\n",
              "  <script>\n",
              "    async function quickchart(key) {\n",
              "      const quickchartButtonEl =\n",
              "        document.querySelector('#' + key + ' button');\n",
              "      quickchartButtonEl.disabled = true;  // To prevent multiple clicks.\n",
              "      quickchartButtonEl.classList.add('colab-df-spinner');\n",
              "      try {\n",
              "        const charts = await google.colab.kernel.invokeFunction(\n",
              "            'suggestCharts', [key], {});\n",
              "      } catch (error) {\n",
              "        console.error('Error during call to suggestCharts:', error);\n",
              "      }\n",
              "      quickchartButtonEl.classList.remove('colab-df-spinner');\n",
              "      quickchartButtonEl.classList.add('colab-df-quickchart-complete');\n",
              "    }\n",
              "    (() => {\n",
              "      let quickchartButtonEl =\n",
              "        document.querySelector('#df-13b408fd-01ab-44e9-a40d-f00dd875d6a0 button');\n",
              "      quickchartButtonEl.style.display =\n",
              "        google.colab.kernel.accessAllowed ? 'block' : 'none';\n",
              "    })();\n",
              "  </script>\n",
              "</div>\n",
              "\n",
              "    </div>\n",
              "  </div>\n"
            ],
            "application/vnd.google.colaboratory.intrinsic+json": {
              "type": "dataframe",
              "variable_name": "df"
            }
          },
          "metadata": {},
          "execution_count": 35
        }
      ]
    },
    {
      "cell_type": "code",
      "source": [
        "df['content'] = df['content'].fillna('')"
      ],
      "metadata": {
        "id": "Gd149Te64dCt"
      },
      "execution_count": 36,
      "outputs": []
    },
    {
      "cell_type": "code",
      "source": [
        "df['Sentiment_rating'] = np.where(df.score > 3, 1, 0) #estandarización de los scores\n",
        "df['Sentiment_rating'].value_counts()"
      ],
      "metadata": {
        "colab": {
          "base_uri": "https://localhost:8080/",
          "height": 178
        },
        "id": "bl5nYo-k5HXr",
        "outputId": "f5ff1b1d-9a13-4476-8e5d-2b5bb242bc01"
      },
      "execution_count": 37,
      "outputs": [
        {
          "output_type": "execute_result",
          "data": {
            "text/plain": [
              "Sentiment_rating\n",
              "0    68579\n",
              "1    47393\n",
              "Name: count, dtype: int64"
            ],
            "text/html": [
              "<div>\n",
              "<style scoped>\n",
              "    .dataframe tbody tr th:only-of-type {\n",
              "        vertical-align: middle;\n",
              "    }\n",
              "\n",
              "    .dataframe tbody tr th {\n",
              "        vertical-align: top;\n",
              "    }\n",
              "\n",
              "    .dataframe thead th {\n",
              "        text-align: right;\n",
              "    }\n",
              "</style>\n",
              "<table border=\"1\" class=\"dataframe\">\n",
              "  <thead>\n",
              "    <tr style=\"text-align: right;\">\n",
              "      <th></th>\n",
              "      <th>count</th>\n",
              "    </tr>\n",
              "    <tr>\n",
              "      <th>Sentiment_rating</th>\n",
              "      <th></th>\n",
              "    </tr>\n",
              "  </thead>\n",
              "  <tbody>\n",
              "    <tr>\n",
              "      <th>0</th>\n",
              "      <td>68579</td>\n",
              "    </tr>\n",
              "    <tr>\n",
              "      <th>1</th>\n",
              "      <td>47393</td>\n",
              "    </tr>\n",
              "  </tbody>\n",
              "</table>\n",
              "</div><br><label><b>dtype:</b> int64</label>"
            ]
          },
          "metadata": {},
          "execution_count": 37
        }
      ]
    },
    {
      "cell_type": "code",
      "source": [
        "df1=df.iloc[:5000,:] #reducción del tamaño del dataset para achicar los tiempos de análisis"
      ],
      "metadata": {
        "id": "MHbnLcHT5wCE"
      },
      "execution_count": 38,
      "outputs": []
    },
    {
      "cell_type": "markdown",
      "source": [
        "# 3) Tokenización"
      ],
      "metadata": {
        "id": "oWgNgBf7Zesf"
      }
    },
    {
      "cell_type": "code",
      "execution_count": 39,
      "metadata": {
        "id": "OaYx7BhirgCU"
      },
      "outputs": [],
      "source": [
        "# Defino parámetros\n",
        "max_words = 10000\n",
        "max_len = 100\n",
        "\n",
        "# Creao y tokenizo el corpus\n",
        "tokenizer = Tokenizer(num_words=max_words)\n",
        "\n",
        "tokenizer.fit_on_texts(df1['content'])\n",
        "sequences = tokenizer.texts_to_sequences(df1['content'])\n",
        "X = pad_sequences(sequences, maxlen=max_len)\n",
        "\n",
        "# Creo etiquetas\n",
        "y = df1['Sentiment_rating']\n",
        "\n"
      ]
    },
    {
      "cell_type": "code",
      "source": [
        "y.shape"
      ],
      "metadata": {
        "colab": {
          "base_uri": "https://localhost:8080/"
        },
        "id": "q-NNlA2Y2x5O",
        "outputId": "a52c3fda-8f4d-4f76-f9a6-49a9f4166655"
      },
      "execution_count": 40,
      "outputs": [
        {
          "output_type": "execute_result",
          "data": {
            "text/plain": [
              "(5000,)"
            ]
          },
          "metadata": {},
          "execution_count": 40
        }
      ]
    },
    {
      "cell_type": "code",
      "source": [
        "X.shape"
      ],
      "metadata": {
        "colab": {
          "base_uri": "https://localhost:8080/"
        },
        "id": "5wrhu9dS21MN",
        "outputId": "44cbc0ac-82b8-4e1e-c0e0-4145d74dcb6e"
      },
      "execution_count": 41,
      "outputs": [
        {
          "output_type": "execute_result",
          "data": {
            "text/plain": [
              "(5000, 100)"
            ]
          },
          "metadata": {},
          "execution_count": 41
        }
      ]
    },
    {
      "cell_type": "markdown",
      "source": [
        "# 4) LSTM"
      ],
      "metadata": {
        "id": "bC9fC3LMZlCO"
      }
    },
    {
      "cell_type": "code",
      "source": [
        "# Defino el modelo Bidireccional LSTM\n",
        "bi_lstm_model = Sequential([\n",
        "    Embedding(input_dim=10000, output_dim=128),\n",
        "    Bidirectional(LSTM(128)),\n",
        "    Dense(1, activation='sigmoid')\n",
        "])\n",
        "\n",
        "# Compilo el modelo antes de entrenar\n",
        "bi_lstm_model.compile(optimizer='adam', loss='binary_crossentropy', metrics=['accuracy'])"
      ],
      "metadata": {
        "id": "3JmkJif42qw3"
      },
      "execution_count": 42,
      "outputs": []
    },
    {
      "cell_type": "code",
      "source": [
        "# Entreno el modelo\n",
        "with tf.device('/GPU:0'):\n",
        "  model = bi_lstm_model.fit(X, y, epochs=6, batch_size=32, validation_split=0.2)\n",
        "\n",
        "# Evalúo el modelo\n",
        "bi_lstm_loss, bi_lstm_accuracy = bi_lstm_model.evaluate(X, y)\n",
        "print(f'Bidirectional LSTM Test Accuracy: {bi_lstm_accuracy}')"
      ],
      "metadata": {
        "colab": {
          "base_uri": "https://localhost:8080/"
        },
        "id": "Ly8N_sHv_1uK",
        "outputId": "054b3c33-73b7-4e29-b602-00303e37fad7"
      },
      "execution_count": 43,
      "outputs": [
        {
          "output_type": "stream",
          "name": "stdout",
          "text": [
            "Epoch 1/6\n",
            "\u001b[1m125/125\u001b[0m \u001b[32m━━━━━━━━━━━━━━━━━━━━\u001b[0m\u001b[37m\u001b[0m \u001b[1m29s\u001b[0m 211ms/step - accuracy: 0.6866 - loss: 0.5887 - val_accuracy: 0.8070 - val_loss: 0.4368\n",
            "Epoch 2/6\n",
            "\u001b[1m125/125\u001b[0m \u001b[32m━━━━━━━━━━━━━━━━━━━━\u001b[0m\u001b[37m\u001b[0m \u001b[1m41s\u001b[0m 209ms/step - accuracy: 0.8652 - loss: 0.3359 - val_accuracy: 0.8230 - val_loss: 0.4227\n",
            "Epoch 3/6\n",
            "\u001b[1m125/125\u001b[0m \u001b[32m━━━━━━━━━━━━━━━━━━━━\u001b[0m\u001b[37m\u001b[0m \u001b[1m26s\u001b[0m 210ms/step - accuracy: 0.9311 - loss: 0.2096 - val_accuracy: 0.8130 - val_loss: 0.4905\n",
            "Epoch 4/6\n",
            "\u001b[1m125/125\u001b[0m \u001b[32m━━━━━━━━━━━━━━━━━━━━\u001b[0m\u001b[37m\u001b[0m \u001b[1m41s\u001b[0m 210ms/step - accuracy: 0.9566 - loss: 0.1517 - val_accuracy: 0.8170 - val_loss: 0.5176\n",
            "Epoch 5/6\n",
            "\u001b[1m125/125\u001b[0m \u001b[32m━━━━━━━━━━━━━━━━━━━━\u001b[0m\u001b[37m\u001b[0m \u001b[1m41s\u001b[0m 208ms/step - accuracy: 0.9667 - loss: 0.1140 - val_accuracy: 0.8150 - val_loss: 0.6110\n",
            "Epoch 6/6\n",
            "\u001b[1m125/125\u001b[0m \u001b[32m━━━━━━━━━━━━━━━━━━━━\u001b[0m\u001b[37m\u001b[0m \u001b[1m41s\u001b[0m 213ms/step - accuracy: 0.9728 - loss: 0.0925 - val_accuracy: 0.7990 - val_loss: 0.6445\n",
            "\u001b[1m157/157\u001b[0m \u001b[32m━━━━━━━━━━━━━━━━━━━━\u001b[0m\u001b[37m\u001b[0m \u001b[1m9s\u001b[0m 57ms/step - accuracy: 0.9685 - loss: 0.1020\n",
            "Bidirectional LSTM Test Accuracy: 0.9391999840736389\n"
          ]
        }
      ]
    },
    {
      "cell_type": "code",
      "source": [
        "acc = model.history['accuracy']\n",
        "val_acc = model.history['val_accuracy']\n",
        "loss = model.history['loss']\n",
        "val_loss = model.history['val_loss']\n",
        "\n",
        "epochs = range(1, len(acc) + 1)\n",
        "\n",
        "plt.plot(epochs, acc, 'r', label='Training acc')\n",
        "plt.plot(epochs, val_acc, 'b', label='Validation acc')\n",
        "plt.title('Training and validation accuracy')\n",
        "plt.legend()\n",
        "\n",
        "plt.figure()\n",
        "plt.plot(epochs, loss, 'r', label='Training loss')\n",
        "plt.plot(epochs, val_loss, 'b', label='Validation loss')\n",
        "plt.title('Training and validation loss')\n",
        "plt.legend()\n",
        "\n",
        "plt.show()"
      ],
      "metadata": {
        "colab": {
          "base_uri": "https://localhost:8080/",
          "height": 887
        },
        "id": "KUQldBerDJg2",
        "outputId": "61b02915-89b7-4870-fa07-93eac7c6fde2"
      },
      "execution_count": 44,
      "outputs": [
        {
          "output_type": "display_data",
          "data": {
            "text/plain": [
              "<Figure size 640x480 with 1 Axes>"
            ],
            "image/png": "[encoded data removed]"
          },
          "metadata": {}
        },
        {
          "output_type": "display_data",
          "data": {
            "text/plain": [
              "<Figure size 640x480 with 1 Axes>"
            ],
            "image/png": "[encoded data removed]"
          },
          "metadata": {}
        }
      ]
    },
    {
      "cell_type": "markdown",
      "source": [
        "# Conclusiones"
      ],
      "metadata": {
        "id": "-5cDdpp6bje0"
      }
    },
    {
      "cell_type": "markdown",
      "source": [
        "Para esta ocasión, previo procesamiento del dataset con tokenización y estandarización de los scores, se aplicó un modelo de redes neuronales del tipo recurrentes de dos capas bidireccionales. A comparación del modelo de regresión logística que se aplicó en la parte 1 (80% de precisión), este modelo obtuvo una precisión del 94%.\n",
        "Con más de 6 épocas el modelo no aumentó de precisión. Si bien este modelo tuvo un mejor desempeño que el de ML, su consumo de memoria y tiempo es notablemente mayor (con 5000 registros del dataset al modelo le llevó 3 minutos, por lo que analizar el total del dataset llevaría una hora aproximadamente). Esto debe ser evaluado por la empresa si ello lo amerita."
      ],
      "metadata": {
        "id": "Jh20YRg5edQ3"
      }
    }
  ]
}